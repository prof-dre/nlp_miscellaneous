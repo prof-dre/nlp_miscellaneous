{
 "cells": [
  {
   "cell_type": "markdown",
   "metadata": {},
   "source": [
    "# Frequency Analysis\n",
    "\n",
    "Frequency analysis is a rudimentary tool for language detection, as every language has specific pattern of letter frequencies. Thus, it also can be used in cryptanalysis to break monoalphabetic substitution ciphers.\n",
    "\n",
    "The following code demonstrates how to determine the letter frequency pattern of a text read from a file."
   ]
  },
  {
   "cell_type": "code",
   "execution_count": 1,
   "metadata": {},
   "outputs": [
    {
     "name": "stdout",
     "output_type": "stream",
     "text": [
      "LOREMIPSUMDOLORSITAMETCONSECTETURADIPISCINGELITSEDDOEIUSMODTEMPORINCIDIDUNTUTLABOREETDOLOREMAGNAALIQUAUTENIMADMINIMVENIAMQUISNOSTRUDEXERCITATIONULLAMCOLABORISNISIUTALIQUIPEXEACOMMODOCONSEQUATDUISAUTEIRUREDOLORINREPREHENDERITINVOLUPTATEVELITESSECILLUMDOLOREEUFUGIATNULLAPARIATUREXCEPTEURSINTOCCAECATCUPIDATATNONPROIDENTSUNTINCULPAQUIOFFICIADESERUNTMOLLITANIMIDESTLABORUM\n"
     ]
    }
   ],
   "source": [
    "# Open and read file\n",
    "fo = open(\"data.txt\", \"r\")\n",
    "data = fo.read()\n",
    "\n",
    "# Remove every character that doesn't occur in the English standard alphabet\n",
    "import re\n",
    "data = re.sub('[^A-Za-z]+', '', data)\n",
    "data = data.upper()\n",
    "print(data)"
   ]
  },
  {
   "cell_type": "code",
   "execution_count": 2,
   "metadata": {},
   "outputs": [
    {
     "name": "stdout",
     "output_type": "stream",
     "text": [
      "{'A': 0, 'B': 0, 'C': 0, 'D': 0, 'E': 0, 'F': 0, 'G': 0, 'H': 0, 'I': 0, 'J': 0, 'K': 0, 'L': 0, 'M': 0, 'N': 0, 'O': 0, 'P': 0, 'Q': 0, 'R': 0, 'S': 0, 'T': 0, 'U': 0, 'V': 0, 'W': 0, 'X': 0, 'Y': 0, 'Z': 0}\n"
     ]
    }
   ],
   "source": [
    "# build a dictionary in which the occurance of each letter can be stored\n",
    "import string\n",
    "all_characters = list(string.ascii_uppercase)\n",
    "occurrances = dict(zip(all_characters,[0]*len(all_characters)))\n",
    "print(occurrances)"
   ]
  },
  {
   "cell_type": "code",
   "execution_count": 3,
   "metadata": {},
   "outputs": [
    {
     "name": "stdout",
     "output_type": "stream",
     "text": [
      "{'A': 29, 'B': 3, 'C': 16, 'D': 19, 'E': 38, 'F': 3, 'G': 3, 'H': 1, 'I': 42, 'J': 0, 'K': 0, 'L': 22, 'M': 17, 'N': 24, 'O': 29, 'P': 11, 'Q': 5, 'R': 22, 'S': 18, 'T': 32, 'U': 29, 'V': 3, 'W': 0, 'X': 3, 'Y': 0, 'Z': 0}\n"
     ]
    }
   ],
   "source": [
    "# loop through data string and increment occurrance of the corresponding letter in the dictionary\n",
    "for c in data:\n",
    "    occurrances[c] = occurrances.get(c, 0) + 1\n",
    "print(occurrances)"
   ]
  },
  {
   "cell_type": "code",
   "execution_count": 4,
   "metadata": {},
   "outputs": [
    {
     "data": {
      "image/png": "[encoded data removed]",
      "text/plain": [
       "<Figure size 432x288 with 1 Axes>"
      ]
     },
     "metadata": {
      "needs_background": "light"
     },
     "output_type": "display_data"
    }
   ],
   "source": [
    "# normalize occurrances and visualize results\n",
    "for key,value in occurrances.items():\n",
    "    occurrances[key] = value / len(data)\n",
    "import matplotlib.pyplot as plt\n",
    "plt.bar(range(len(occurrances)), list(occurrances.values()))\n",
    "plt.xticks(range(len(occurrances)), list(occurrances.keys()))\n",
    "plt.show()"
   ]
  },
  {
   "cell_type": "code",
   "execution_count": 5,
   "metadata": {},
   "outputs": [
    {
     "data": {
      "image/png": "[encoded data removed]",
      "text/plain": [
       "<Figure size 432x288 with 1 Axes>"
      ]
     },
     "metadata": {
      "needs_background": "light"
     },
     "output_type": "display_data"
    }
   ],
   "source": [
    "# sort occurrances in descending order and visualize results\n",
    "occurrances = {k : v for k, v in sorted(occurrances.items(), key=lambda item: item[1], reverse=True)}\n",
    "plt.bar(range(len(occurrances)), list(occurrances.values()))\n",
    "plt.xticks(range(len(occurrances)), list(occurrances.keys()))\n",
    "plt.show()"
   ]
  }
 ],
 "metadata": {
  "kernelspec": {
   "display_name": "Python 3",
   "language": "python",
   "name": "python3"
  },
  "language_info": {
   "codemirror_mode": {
    "name": "ipython",
    "version": 3
   },
   "file_extension": ".py",
   "mimetype": "text/x-python",
   "name": "python",
   "nbconvert_exporter": "python",
   "pygments_lexer": "ipython3",
   "version": "3.8.3"
  }
 },
 "nbformat": 4,
 "nbformat_minor": 4
}
